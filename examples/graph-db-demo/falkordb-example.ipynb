{
  "cells": [
    {
      "cell_type": "markdown",
      "metadata": {
        "id": "ApdaLD4Qi30H"
      },
      "source": [
        "# FalkorDB as Graph Memory"
      ]
    },
    {
      "cell_type": "markdown",
      "metadata": {
        "id": "l7bi3i21i30I"
      },
      "source": [
        "## Prerequisites\n",
        "\n",
        "### Install Mem0 with Graph Memory support\n",
        "\n",
        "To use Mem0 with Graph Memory support, install it using pip:\n",
        "\n",
        "```bash\n",
        "pip install \"mem0ai[graph]\"\n",
        "```\n",
        "\n",
        "This command installs Mem0 along with the necessary dependencies for graph functionality.\n",
        "\n",
        "### FalkorDB setup\n",
        "\n",
        "FalkorDB is a Redis-compatible graph database. You can run it using Docker:\n",
        "\n",
        "```bash\n",
        "docker run -p 6379:6379 -it --rm falkordb/falkordb:latest\n",
        "```\n",
        "\n",
        "Or install and run it locally following the [FalkorDB installation guide](https://docs.falkordb.com/setup.html).\n"
      ]
    },
    {
      "cell_type": "markdown",
      "metadata": {
        "id": "DkeBdFEpi30I"
      },
      "source": [
        "## Configuration\n",
        "\n",
        "Do all the imports and configure OpenAI (enter your OpenAI API key):"
      ]
    },
    {
      "cell_type": "code",
      "execution_count": null,
      "metadata": {
        "id": "d99EfBpii30I"
      },
      "outputs": [],
      "source": [
        "from mem0 import Memory\n",
        "from openai import OpenAI\n",
        "\n",
        "import os\n",
        "\n",
        "os.environ[\"OPENAI_API_KEY\"] = \"\"\n",
        "openai_client = OpenAI()"
      ]
    },
    {
      "cell_type": "markdown",
      "metadata": {
        "id": "QTucZJjIi30J"
      },
      "source": [
        "Set up configuration to use the embedder model and FalkorDB as a graph store:"
      ]
    },
    {
      "cell_type": "code",
      "execution_count": null,
      "metadata": {
        "id": "QSE0RFoSi30J"
      },
      "outputs": [],
      "source": [
        "config = {\n",
        "    \"embedder\": {\n",
        "        \"provider\": \"openai\",\n",
        "        \"config\": {\"model\": \"text-embedding-3-large\", \"embedding_dims\": 3072},\n",
        "    },\n",
        "    \"graph_store\": {\n",
        "        \"provider\": \"falkordb\",\n",
        "        \"config\": {\n",
        "            \"host\": \"localhost\",\n",
        "            \"port\": 6379,\n",
        "            \"graph_name\": \"social_network\"\n",
        "        },\n",
        "    },\n",
        "}\n",
        "memory = Memory.from_config(config_dict=config)"
      ]
    },
    {
      "cell_type": "markdown",
      "metadata": {},
      "source": [
        "## Alternative configuration with authentication\n",
        "\n",
        "If your FalkorDB instance requires authentication:"
      ]
    },
    {
      "cell_type": "code",
      "execution_count": null,
      "metadata": {},
      "outputs": [],
      "source": [
        "config_with_auth = {\n",
        "    \"embedder\": {\n",
        "        \"provider\": \"openai\",\n",
        "        \"config\": {\"model\": \"text-embedding-3-large\", \"embedding_dims\": 3072},\n",
        "    },\n",
        "    \"graph_store\": {\n",
        "        \"provider\": \"falkordb\",\n",
        "        \"config\": {\n",
        "            \"host\": \"localhost\",\n",
        "            \"port\": 6379,\n",
        "            \"username\": \"default\",\n",
        "            \"password\": \"your_password\",\n",
        "            \"graph_name\": \"social_network\"\n",
        "        },\n",
        "    },\n",
        "}\n",
        "# Uncomment to use authenticated connection\n",
        "# memory = Memory.from_config(config_dict=config_with_auth)"
      ]
    },
    {
      "cell_type": "markdown",
      "metadata": {
        "id": "WOcOBmeFi30J"
      },
      "source": [
        "## Add some memories\n",
        "\n",
        "Let's create some memories about users and their preferences:"
      ]
    },
    {
      "cell_type": "code",
      "execution_count": null,
      "metadata": {
        "id": "2bKtcVnGi30J"
      },
      "outputs": [],
      "source": [
        "# Define user data\n",
        "messages_alice = [\n",
        "    {\n",
        "        \"role\": \"user\",\n",
        "        \"content\": \"Hi, I'm Alice, I work at a tech startup in San Francisco. I love playing tennis and hiking.\"\n",
        "    },\n",
        "    {\n",
        "        \"role\": \"assistant\", \n",
        "        \"content\": \"Hello Alice! Nice to meet you. I've noted that you work at a tech startup in San Francisco and enjoy tennis and hiking.\"\n",
        "    }\n",
        "]\n",
        "\n",
        "messages_bob = [\n",
        "    {\n",
        "        \"role\": \"user\",\n",
        "        \"content\": \"I'm Bob, Alice's colleague. We both work at the same tech startup. I love playing tennis too, and we sometimes play together.\"\n",
        "    }\n",
        "]\n",
        "\n",
        "messages_charlie = [\n",
        "    {\n",
        "        \"role\": \"user\",\n",
        "        \"content\": \"Hi! I'm Charlie. I'm Alice's friend from her hiking group. We go hiking in the Bay Area trails every weekend.\"\n",
        "    }\n",
        "]\n",
        "\n",
        "# Add memories\n",
        "memory.add(messages_alice, user_id=\"alice\")\n",
        "memory.add(messages_bob, user_id=\"bob\")\n",
        "memory.add(messages_charlie, user_id=\"charlie\")"
      ]
    },
    {
      "cell_type": "markdown",
      "metadata": {
        "id": "6fKHBbKji30K"
      },
      "source": [
        "## Retrieve memories\n",
        "\n",
        "Now let's search for memories related to specific queries:"
      ]
    },
    {
      "cell_type": "code",
      "execution_count": null,
      "metadata": {
        "id": "LKt-TCNoi30K"
      },
      "outputs": [],
      "source": [
        "# Search for tennis-related memories\n",
        "tennis_memories = memory.search(\"tennis\", user_id=\"alice\")\n",
        "print(\"Tennis-related memories for Alice:\")\n",
        "for i, memory_item in enumerate(tennis_memories, 1):\n",
        "    print(f\"{i}. {memory_item['memory']}\")\n",
        "\n",
        "print(\"\\n\" + \"=\"*50 + \"\\n\")\n",
        "\n",
        "# Search for work-related memories\n",
        "work_memories = memory.search(\"tech startup work\", user_id=\"bob\")\n",
        "print(\"Work-related memories for Bob:\")\n",
        "for i, memory_item in enumerate(work_memories, 1):\n",
        "    print(f\"{i}. {memory_item['memory']}\")\n",
        "\n",
        "print(\"\\n\" + \"=\"*50 + \"\\n\")\n",
        "\n",
        "# Search for hiking-related memories\n",
        "hiking_memories = memory.search(\"hiking trails\", user_id=\"charlie\")\n",
        "print(\"Hiking-related memories for Charlie:\")\n",
        "for i, memory_item in enumerate(hiking_memories, 1):\n",
        "    print(f\"{i}. {memory_item['memory']}\")"
      ]
    },
    {
      "cell_type": "markdown",
      "metadata": {
        "id": "rCb7LX8xi30K"
      },
      "source": [
        "## View the Graph Structure\n",
        "\n",
        "Let's see what relationships were extracted and stored in the graph:"
      ]
    },
    {
      "cell_type": "code",
      "execution_count": null,
      "metadata": {
        "id": "FXXNRo2qi30K"
      },
      "outputs": [],
      "source": [
        "# Get all relationships for each user\n",
        "for user_id in [\"alice\", \"bob\", \"charlie\"]:\n",
        "    print(f\"\\nRelationships for {user_id}:\")\n",
        "    all_memories = memory.get_all(user_id=user_id)\n",
        "    \n",
        "    if 'graph_entities' in all_memories:\n",
        "        for entity in all_memories['graph_entities'][:10]:  # Show first 10 relationships\n",
        "            print(f\"  {entity['source']} --[{entity['relationship']}]--> {entity['target']}\")\n",
        "    else:\n",
        "        print(\"  No graph entities found\")\n",
        "        \n",
        "    print(f\"  Total memories: {len(all_memories.get('memories', []))}\")"
      ]
    },
    {
      "cell_type": "markdown",
      "metadata": {
        "id": "2FQYLXiui30K"
      },
      "source": [
        "## Cross-user Search\n",
        "\n",
        "The power of graph memory is in discovering connections across users. Let's search for connections:"
      ]
    },
    {
      "cell_type": "code",
      "execution_count": null,
      "metadata": {
        "id": "pGLPSt3xi30K"
      },
      "outputs": [],
      "source": [
        "# Search for Alice's connections with tennis\n",
        "print(\"Alice's tennis connections:\")\n",
        "alice_tennis = memory.search(\"Alice tennis colleague\", user_id=\"alice\")\n",
        "for memory_item in alice_tennis:\n",
        "    print(f\"- {memory_item['memory']}\")\n",
        "\n",
        "print(\"\\n\" + \"=\"*50 + \"\\n\")\n",
        "\n",
        "# Search for Alice's hiking connections  \n",
        "print(\"Alice's hiking connections:\")\n",
        "alice_hiking = memory.search(\"Alice hiking friend weekend\", user_id=\"alice\")\n",
        "for memory_item in alice_hiking:\n",
        "    print(f\"- {memory_item['memory']}\")\n",
        "\n",
        "print(\"\\n\" + \"=\"*50 + \"\\n\")\n",
        "\n",
        "# Search for shared interests\n",
        "print(\"Shared interests and connections:\")\n",
        "shared = memory.search(\"tech startup colleagues friends activities\", user_id=\"alice\")\n",
        "for memory_item in shared[:5]:  # Show top 5 results\n",
        "    print(f\"- {memory_item['memory']}\")"
      ]
    },
    {
      "cell_type": "markdown",
      "metadata": {
        "id": "Ij0x8QBAi30L"
      },
      "source": [
        "## Update Memories\n",
        "\n",
        "Let's add more information and see how the graph evolves:"
      ]
    },
    {
      "cell_type": "code",
      "execution_count": null,
      "metadata": {
        "id": "m_AHyNh6i30L"
      },
      "outputs": [],
      "source": [
        "# Add more information about relationships\n",
        "update_messages = [\n",
        "    {\n",
        "        \"role\": \"user\",\n",
        "        \"content\": \"Bob and I actually play tennis doubles together every Tuesday evening at the local club. Charlie joins us sometimes for hiking on Sundays.\"\n",
        "    }\n",
        "]\n",
        "\n",
        "memory.add(update_messages, user_id=\"alice\")\n",
        "\n",
        "print(\"Updated memories added!\")\n",
        "\n",
        "# Search again to see enhanced connections\n",
        "print(\"\\nEnhanced tennis connections:\")\n",
        "enhanced_tennis = memory.search(\"tennis doubles Tuesday club\", user_id=\"alice\")\n",
        "for memory_item in enhanced_tennis:\n",
        "    print(f\"- {memory_item['memory']}\")\n",
        "\n",
        "print(\"\\nEnhanced hiking connections:\")\n",
        "enhanced_hiking = memory.search(\"Charlie hiking Sunday\", user_id=\"alice\")\n",
        "for memory_item in enhanced_hiking:\n",
        "    print(f\"- {memory_item['memory']}\")"
      ]
    },
    {
      "cell_type": "markdown",
      "metadata": {
        "id": "9BaKfxDai30L"
      },
      "source": [
        "## Clean Up\n",
        "\n",
        "Optionally, you can delete all memories for specific users or reset the entire graph:"
      ]
    },
    {
      "cell_type": "code",
      "execution_count": null,
      "metadata": {
        "id": "lT6V2pVXi30L"
      },
      "outputs": [],
      "source": [
        "# Delete memories for a specific user\n",
        "# memory.delete_all(user_id=\"bob\")\n",
        "# print(\"Deleted all memories for Bob\")\n",
        "\n",
        "# Or reset the entire memory system (uncomment to use)\n",
        "# memory.reset()\n",
        "# print(\"Reset complete - all memories deleted\")\n",
        "\n",
        "print(\"Demo completed! FalkorDB integration is working correctly.\")"
      ]
    },
    {
      "cell_type": "markdown",
      "metadata": {},
      "source": [
        "## FalkorDB Advantages\n",
        "\n",
        "FalkorDB offers several advantages for graph memory:\n",
        "\n",
        "1. **High Performance**: FalkorDB is designed for speed, providing fast query execution and low latency.\n",
        "\n",
        "2. **Redis Compatibility**: Uses familiar Redis commands and protocols, making it easy to integrate.\n",
        "\n",
        "3. **Vector Support**: Native support for vector operations, perfect for similarity search with embeddings.\n",
        "\n",
        "4. **Scalability**: Designed to handle large-scale graph workloads efficiently.\n",
        "\n",
        "5. **Simple Deployment**: Easy to deploy using Docker or native installation.\n",
        "\n",
        "6. **Real-time Analytics**: Supports real-time graph analytics and pattern matching.\n",
        "\n",
        "This makes FalkorDB an excellent choice for memory graphs where performance and scalability are important considerations."
      ]
    }
  ],
  "metadata": {
    "kernelspec": {
      "display_name": "Python 3",
      "language": "python",
      "name": "python3"
    },
    "language_info": {
      "codemirror_mode": {
        "name": "ipython",
        "version": 3
      },
      "file_extension": ".py",
      "mimetype": "text/x-python",
      "name": "python",
      "nbconvert_exporter": "python",
      "pygments_lexer": "ipython3",
      "version": "3.8.10"
    }
  },
  "nbformat": 4,
  "nbformat_minor": 4
}