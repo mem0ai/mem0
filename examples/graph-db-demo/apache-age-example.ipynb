{
 "cells": [
  {
   "cell_type": "markdown",
   "metadata": {},
   "source": [
    "# Apache AGE Graph Memory Example\n",
    "\n",
    "This notebook demonstrates how to use Mem0 with Apache AGE as the graph database backend.\n",
    "\n",
    "Apache AGE is a PostgreSQL extension that provides graph database functionality, combining the power of PostgreSQL with graph capabilities.\n",
    "\n",
    "## Prerequisites\n",
    "\n",
    "1. PostgreSQL 11+ installed\n",
    "2. Apache AGE extension installed\n",
    "3. A PostgreSQL database created\n",
    "4. Required Python packages installed"
   ]
  },
  {
   "cell_type": "markdown",
   "metadata": {},
   "source": [
    "## Installation\n",
    "\n",
    "First, install the required packages:"
   ]
  },
  {
   "cell_type": "code",
   "execution_count": null,
   "metadata": {},
   "outputs": [],
   "source": [
    "# Install required packages\n",
    "!pip install \"mem0ai[graph]\" apache-age-python psycopg2-binary"
   ]
  },
  {
   "cell_type": "markdown",
   "metadata": {},
   "source": [
    "## Setup Apache AGE with Docker (Optional)\n",
    "\n",
    "If you don't have PostgreSQL with Apache AGE installed, you can use Docker:"
   ]
  },
  {
   "cell_type": "code",
   "execution_count": null,
   "metadata": {},
   "outputs": [],
   "source": [
    "# Run this in your terminal to start PostgreSQL with Apache AGE\n",
    "# docker run --name age-postgres \\\n",
    "#   -e POSTGRES_DB=mem0_db \\\n",
    "#   -e POSTGRES_USER=mem0_user \\\n",
    "#   -e POSTGRES_PASSWORD=mem0_password \\\n",
    "#   -p 5432:5432 \\\n",
    "#   -d apache/age\n",
    "\n",
    "print(\"Run the Docker command above in your terminal to start Apache AGE\")"
   ]
  },
  {
   "cell_type": "markdown",
   "metadata": {},
   "source": [
    "## Configuration\n",
    "\n",
    "Set up your environment variables and configuration:"
   ]
  },
  {
   "cell_type": "code",
   "execution_count": null,
   "metadata": {},
   "outputs": [],
   "source": [
    "import os\n",
    "from mem0 import Memory\n",
    "\n",
    "# Set your OpenAI API key\n",
    "os.environ[\"OPENAI_API_KEY\"] = \"your-openai-api-key-here\"\n",
    "\n",
    "# Apache AGE configuration\n",
    "config = {\n",
    "    \"embedder\": {\n",
    "        \"provider\": \"openai\",\n",
    "        \"config\": {\"model\": \"text-embedding-3-large\", \"embedding_dims\": 1536},\n",
    "    },\n",
    "    \"graph_store\": {\n",
    "        \"provider\": \"apache_age\",\n",
    "        \"config\": {\n",
    "            \"host\": \"localhost\",\n",
    "            \"port\": 5432,\n",
    "            \"database\": \"mem0_db\",\n",
    "            \"username\": \"mem0_user\",\n",
    "            \"password\": \"mem0_password\",\n",
    "            \"graph_name\": \"movie_graph\",\n",
    "            \"base_label\": True\n",
    "        },\n",
    "    },\n",
    "}\n",
    "\n",
    "print(\"Configuration set up successfully!\")"
   ]
  },
  {
   "cell_type": "markdown",
   "metadata": {},
   "source": [
    "## Initialize Memory with Apache AGE\n",
    "\n",
    "Create a Memory instance with Apache AGE as the graph store:"
   ]
  },
  {
   "cell_type": "code",
   "execution_count": null,
   "metadata": {},
   "outputs": [],
   "source": [
    "# Initialize Memory with Apache AGE\n",
    "m = Memory.from_config(config_dict=config)\n",
    "\n",
    "app_id = \"movies\"\n",
    "user_id = \"alice\"\n",
    "\n",
    "# Clean up any existing data\n",
    "m.delete_all(user_id=user_id)\n",
    "\n",
    "print(\"Memory initialized with Apache AGE successfully!\")"
   ]
  },
  {
   "cell_type": "markdown",
   "metadata": {},
   "source": [
    "## Adding Memories\n",
    "\n",
    "Let's add some movie-related memories to see how Apache AGE handles graph relationships:"
   ]
  },
  {
   "cell_type": "code",
   "execution_count": null,
   "metadata": {},
   "outputs": [],
   "source": [
    "# Add movie preferences\n",
    "messages = [\n",
    "    {\n",
    "        \"role\": \"user\",\n",
    "        \"content\": \"I love watching science fiction movies, especially Blade Runner and The Matrix.\",\n",
    "    },\n",
    "]\n",
    "\n",
    "result = m.add(messages, user_id=user_id, metadata={\"category\": \"movie_preferences\"})\n",
    "print(\"Added movie preferences:\")\n",
    "print(result)"
   ]
  },
  {
   "cell_type": "code",
   "execution_count": null,
   "metadata": {},
   "outputs": [],
   "source": [
    "# Add director information\n",
    "messages = [\n",
    "    {\n",
    "        \"role\": \"user\",\n",
    "        \"content\": \"Ridley Scott directed Blade Runner, and the Wachowski sisters directed The Matrix.\",\n",
    "    },\n",
    "]\n",
    "\n",
    "result = m.add(messages, user_id=user_id, metadata={\"category\": \"movie_facts\"})\n",
    "print(\"Added director information:\")\n",
    "print(result)"
   ]
  },
  {
   "cell_type": "code",
   "execution_count": null,
   "metadata": {},
   "outputs": [],
   "source": [
    "# Add actor information\n",
    "messages = [\n",
    "    {\n",
    "        \"role\": \"user\",\n",
    "        \"content\": \"Harrison Ford starred in Blade Runner, and Keanu Reeves starred in The Matrix.\",\n",
    "    },\n",
    "]\n",
    "\n",
    "result = m.add(messages, user_id=user_id, metadata={\"category\": \"movie_cast\"})\n",
    "print(\"Added actor information:\")\n",
    "print(result)"
   ]
  },
  {
   "cell_type": "code",
   "execution_count": null,
   "metadata": {},
   "outputs": [],
   "source": [
    "# Add release year information\n",
    "messages = [\n",
    "    {\n",
    "        \"role\": \"user\",\n",
    "        \"content\": \"Blade Runner was released in 1982, and The Matrix was released in 1999.\",\n",
    "    },\n",
    "]\n",
    "\n",
    "result = m.add(messages, user_id=user_id, metadata={\"category\": \"movie_years\"})\n",
    "print(\"Added release year information:\")\n",
    "print(result)"
   ]
  },
  {
   "cell_type": "markdown",
   "metadata": {},
   "source": [
    "## Retrieving All Memories\n",
    "\n",
    "Let's see all the memories and relationships that have been stored:"
   ]
  },
  {
   "cell_type": "code",
   "execution_count": null,
   "metadata": {},
   "outputs": [],
   "source": [
    "# Get all memories\n",
    "all_results = m.get_all(user_id=user_id)\n",
    "\n",
    "print(\"All stored memories:\")\n",
    "for memory in all_results[\"results\"]:\n",
    "    print(f\"- {memory['memory']} [hash: {memory['hash']}]\")\n",
    "\n",
    "print(\"\\nGraph relationships:\")\n",
    "for entity in all_results[\"entities\"]:\n",
    "    print(f\"- {entity['source']} --[{entity['relationship']}]--> {entity['target']}\")"
   ]
  },
  {
   "cell_type": "markdown",
   "metadata": {},
   "source": [
    "## Searching Memories\n",
    "\n",
    "Now let's search for specific information using natural language queries:"
   ]
  },
  {
   "cell_type": "code",
   "execution_count": null,
   "metadata": {},
   "outputs": [],
   "source": [
    "# Search for movie preferences\n",
    "search_results = m.search(\"What movies do I like?\", user_id=user_id)\n",
    "\n",
    "print(\"Search results for 'What movies do I like?':\")\n",
    "for memory in search_results[\"results\"]:\n",
    "    print(f\"- {memory['memory']}\")\n",
    "\n",
    "print(\"\\nRelated entities:\")\n",
    "for entity in search_results[\"entities\"]:\n",
    "    print(f\"- {entity['source']} --[{entity['relationship']}]--> {entity['target']}\")"
   ]
  },
  {
   "cell_type": "code",
   "execution_count": null,
   "metadata": {},
   "outputs": [],
   "source": [
    "# Search for director information\n",
    "search_results = m.search(\"Who directed The Matrix?\", user_id=user_id)\n",
    "\n",
    "print(\"Search results for 'Who directed The Matrix?':\")\n",
    "for memory in search_results[\"results\"]:\n",
    "    print(f\"- {memory['memory']}\")\n",
    "\n",
    "print(\"\\nRelated entities:\")\n",
    "for entity in search_results[\"entities\"]:\n",
    "    print(f\"- {entity['source']} --[{entity['relationship']}]--> {entity['target']}\")"
   ]
  },
  {
   "cell_type": "code",
   "execution_count": null,
   "metadata": {},
   "outputs": [],
   "source": [
    "# Search for actor information\n",
    "search_results = m.search(\"Which actors starred in these movies?\", user_id=user_id)\n",
    "\n",
    "print(\"Search results for 'Which actors starred in these movies?':\")\n",
    "for memory in search_results[\"results\"]:\n",
    "    print(f\"- {memory['memory']}\")\n",
    "\n",
    "print(\"\\nRelated entities:\")\n",
    "for entity in search_results[\"entities\"]:\n",
    "    print(f\"- {entity['source']} --[{entity['relationship']}]--> {entity['target']}\")"
   ]
  },
  {
   "cell_type": "markdown",
   "metadata": {},
   "source": [
    "## Advanced: Direct Apache AGE Queries\n",
    "\n",
    "Apache AGE allows you to run both SQL and Cypher queries. Here's how you can access the underlying connection:"
   ]
  },
  {
   "cell_type": "code",
   "execution_count": null,
   "metadata": {},
   "outputs": [],
   "source": [
    "# Access the graph memory instance to run custom queries\n",
    "graph_memory = m.memory_store.graph\n",
    "\n",
    "# Example: Get all nodes and their relationships\n",
    "cypher_query = \"\"\"\n",
    "MATCH (n)-[r]->(m)\n",
    "WHERE n.user_id = $user_id\n",
    "RETURN n.name AS source, type(r) AS relationship, m.name AS target\n",
    "LIMIT 10\n",
    "\"\"\"\n",
    "\n",
    "try:\n",
    "    results = graph_memory._execute_cypher(cypher_query, {\"user_id\": user_id})\n",
    "    print(\"Direct Cypher query results:\")\n",
    "    for result in results:\n",
    "        print(f\"- {result['source']} --[{result['relationship']}]--> {result['target']}\")\n",
    "except Exception as e:\n",
    "    print(f\"Error executing query: {e}\")"
   ]
  },
  {
   "cell_type": "markdown",
   "metadata": {},
   "source": [
    "## Cleanup\n",
    "\n",
    "Clean up the data when you're done:"
   ]
  },
  {
   "cell_type": "code",
   "execution_count": null,
   "metadata": {},
   "outputs": [],
   "source": [
    "# Delete all memories for the user\n",
    "m.delete_all(user_id=user_id)\n",
    "print(\"All memories deleted successfully!\")"
   ]
  },
  {
   "cell_type": "markdown",
   "metadata": {},
   "source": [
    "## Summary\n",
    "\n",
    "This notebook demonstrated how to:\n",
    "\n",
    "1. **Configure Mem0 with Apache AGE**: Set up the connection to PostgreSQL with Apache AGE extension\n",
    "2. **Add Memories**: Store information that gets automatically converted to graph relationships\n",
    "3. **Search Memories**: Use natural language queries to find relevant information\n",
    "4. **View Relationships**: See how entities are connected in the graph\n",
    "5. **Custom Queries**: Run direct Cypher queries on the Apache AGE database\n",
    "\n",
    "### Benefits of Apache AGE:\n",
    "\n",
    "- **SQL + Cypher**: Combine relational and graph queries\n",
    "- **ACID Compliance**: Full transaction support\n",
    "- **PostgreSQL Ecosystem**: Use existing PostgreSQL tools\n",
    "- **Scalability**: Proven PostgreSQL performance\n",
    "- **Cost-Effective**: Open-source solution\n",
    "\n",
    "### Next Steps:\n",
    "\n",
    "- Explore more complex graph relationships\n",
    "- Integrate with your existing PostgreSQL infrastructure\n",
    "- Use Apache AGE's advanced graph algorithms\n",
    "- Scale your graph memory system with PostgreSQL clustering"
   ]
  }
 ],
 "metadata": {
  "kernelspec": {
   "display_name": "Python 3",
   "language": "python",
   "name": "python3"
  },
  "language_info": {
   "codemirror_mode": {
    "name": "ipython",
    "version": 3
   },
   "file_extension": ".py",
   "mimetype": "text/x-python",
   "name": "python",
   "nbconvert_exporter": "python",
   "pygments_lexer": "ipython3",
   "version": "3.8.5"
  }
 },
 "nbformat": 4,
 "nbformat_minor": 4
}
